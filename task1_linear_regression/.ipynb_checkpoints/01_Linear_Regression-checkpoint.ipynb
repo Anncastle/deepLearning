{
 "cells": [
  {
   "cell_type": "code",
   "execution_count": 1,
   "id": "graduate-stick",
   "metadata": {},
   "outputs": [],
   "source": [
    "import numpy as np\n",
    "import pandas as pd"
   ]
  },
  {
   "cell_type": "code",
   "execution_count": 2,
   "id": "human-memorial",
   "metadata": {},
   "outputs": [],
   "source": [
    "# 繁体中文使用big5编码\n",
    "train_data = pd.read_csv('./ml2020spring-hw1/train.csv', encoding='big5')"
   ]
  },
  {
   "cell_type": "code",
   "execution_count": 3,
   "id": "impressed-brook",
   "metadata": {},
   "outputs": [],
   "source": [
    "train_dict = {}\n",
    "for idx, col in enumerate(train_data['測項'].unique()):\n",
    "    if idx == 0:\n",
    "        train_dict['date'] = pd.to_datetime(np.repeat(train_data[train_data['測項'] == col]['日期'].values, 24))\n",
    "        train_dict['hour'] = pd.to_numeric(np.tile(train_data[train_data['測項'] == col].columns[3:],240)) \n",
    "#     print(col)\n",
    "    if col == 'RAINFALL':\n",
    "        tmp_array = train_data[train_data['測項'] == col].T.iloc[3:].values.flatten(order='F')\n",
    "        tmp_array[tmp_array=='NR'] = -1\n",
    "        train_dict[col] = pd.to_numeric(tmp_array)\n",
    "    else:\n",
    "        train_dict[col] = pd.to_numeric(train_data[train_data['測項'] == col].T.iloc[3:].values.flatten(order='F'))"
   ]
  },
  {
   "cell_type": "code",
   "execution_count": 110,
   "id": "further-superintendent",
   "metadata": {},
   "outputs": [
    {
     "data": {
      "text/plain": [
       "array(['0', '0.2', '0.4', '0.6', '0.8', '1', '1.2', '1.4', '1.6', '1.8',\n",
       "       '10', '11', '12', '13', '14', '15', '17', '18', '19', '2', '2.2',\n",
       "       '2.4', '2.6', '2.8', '20', '21', '23', '27', '3', '3.2', '3.4',\n",
       "       '3.6', '3.8', '38', '4', '4.2', '4.6', '4.8', '5', '5.4', '56',\n",
       "       '6.4', '6.8', '66', '7', '7.2', '7.4', '7.6', '7.8', '74', '8.2',\n",
       "       '8.4', '8.6', '9.2', '9.8', 'NR'], dtype=object)"
      ]
     },
     "execution_count": 110,
     "metadata": {},
     "output_type": "execute_result"
    }
   ],
   "source": [
    "np.unique(train_data[train_data['測項'] == 'RAINFALL'].T.iloc[3:].values.flatten(order='F'))"
   ]
  },
  {
   "cell_type": "code",
   "execution_count": 111,
   "id": "conscious-clock",
   "metadata": {},
   "outputs": [
    {
     "data": {
      "text/html": [
       "<div>\n",
       "<style scoped>\n",
       "    .dataframe tbody tr th:only-of-type {\n",
       "        vertical-align: middle;\n",
       "    }\n",
       "\n",
       "    .dataframe tbody tr th {\n",
       "        vertical-align: top;\n",
       "    }\n",
       "\n",
       "    .dataframe thead th {\n",
       "        text-align: right;\n",
       "    }\n",
       "</style>\n",
       "<table border=\"1\" class=\"dataframe\">\n",
       "  <thead>\n",
       "    <tr style=\"text-align: right;\">\n",
       "      <th></th>\n",
       "      <th>date</th>\n",
       "      <th>hour</th>\n",
       "      <th>AMB_TEMP</th>\n",
       "      <th>CH4</th>\n",
       "      <th>CO</th>\n",
       "      <th>NMHC</th>\n",
       "      <th>NO</th>\n",
       "      <th>NO2</th>\n",
       "      <th>NOx</th>\n",
       "      <th>O3</th>\n",
       "      <th>PM10</th>\n",
       "      <th>PM2.5</th>\n",
       "      <th>RAINFALL</th>\n",
       "      <th>RH</th>\n",
       "      <th>SO2</th>\n",
       "      <th>THC</th>\n",
       "      <th>WD_HR</th>\n",
       "      <th>WIND_DIREC</th>\n",
       "      <th>WIND_SPEED</th>\n",
       "      <th>WS_HR</th>\n",
       "    </tr>\n",
       "  </thead>\n",
       "  <tbody>\n",
       "    <tr>\n",
       "      <th>0</th>\n",
       "      <td>2014-01-01</td>\n",
       "      <td>0</td>\n",
       "      <td>14.0</td>\n",
       "      <td>1.8</td>\n",
       "      <td>0.51</td>\n",
       "      <td>0.20</td>\n",
       "      <td>0.9</td>\n",
       "      <td>16.0</td>\n",
       "      <td>17.0</td>\n",
       "      <td>16.0</td>\n",
       "      <td>56</td>\n",
       "      <td>26</td>\n",
       "      <td>-1.0</td>\n",
       "      <td>77</td>\n",
       "      <td>1.8</td>\n",
       "      <td>2.0</td>\n",
       "      <td>37.0</td>\n",
       "      <td>35.0</td>\n",
       "      <td>1.4</td>\n",
       "      <td>0.5</td>\n",
       "    </tr>\n",
       "    <tr>\n",
       "      <th>1</th>\n",
       "      <td>2014-01-01</td>\n",
       "      <td>1</td>\n",
       "      <td>14.0</td>\n",
       "      <td>1.8</td>\n",
       "      <td>0.41</td>\n",
       "      <td>0.15</td>\n",
       "      <td>0.6</td>\n",
       "      <td>9.2</td>\n",
       "      <td>9.8</td>\n",
       "      <td>30.0</td>\n",
       "      <td>50</td>\n",
       "      <td>39</td>\n",
       "      <td>-1.0</td>\n",
       "      <td>68</td>\n",
       "      <td>2.0</td>\n",
       "      <td>2.0</td>\n",
       "      <td>80.0</td>\n",
       "      <td>79.0</td>\n",
       "      <td>1.8</td>\n",
       "      <td>0.9</td>\n",
       "    </tr>\n",
       "    <tr>\n",
       "      <th>2</th>\n",
       "      <td>2014-01-01</td>\n",
       "      <td>2</td>\n",
       "      <td>14.0</td>\n",
       "      <td>1.8</td>\n",
       "      <td>0.39</td>\n",
       "      <td>0.13</td>\n",
       "      <td>0.5</td>\n",
       "      <td>8.2</td>\n",
       "      <td>8.7</td>\n",
       "      <td>27.0</td>\n",
       "      <td>48</td>\n",
       "      <td>36</td>\n",
       "      <td>-1.0</td>\n",
       "      <td>67</td>\n",
       "      <td>1.7</td>\n",
       "      <td>2.0</td>\n",
       "      <td>57.0</td>\n",
       "      <td>2.4</td>\n",
       "      <td>1.0</td>\n",
       "      <td>0.6</td>\n",
       "    </tr>\n",
       "    <tr>\n",
       "      <th>3</th>\n",
       "      <td>2014-01-01</td>\n",
       "      <td>3</td>\n",
       "      <td>13.0</td>\n",
       "      <td>1.8</td>\n",
       "      <td>0.37</td>\n",
       "      <td>0.12</td>\n",
       "      <td>1.7</td>\n",
       "      <td>6.9</td>\n",
       "      <td>8.6</td>\n",
       "      <td>23.0</td>\n",
       "      <td>35</td>\n",
       "      <td>35</td>\n",
       "      <td>-1.0</td>\n",
       "      <td>74</td>\n",
       "      <td>1.6</td>\n",
       "      <td>1.9</td>\n",
       "      <td>76.0</td>\n",
       "      <td>55.0</td>\n",
       "      <td>0.6</td>\n",
       "      <td>0.3</td>\n",
       "    </tr>\n",
       "    <tr>\n",
       "      <th>4</th>\n",
       "      <td>2014-01-01</td>\n",
       "      <td>4</td>\n",
       "      <td>12.0</td>\n",
       "      <td>1.8</td>\n",
       "      <td>0.35</td>\n",
       "      <td>0.11</td>\n",
       "      <td>1.8</td>\n",
       "      <td>6.8</td>\n",
       "      <td>8.5</td>\n",
       "      <td>24.0</td>\n",
       "      <td>25</td>\n",
       "      <td>31</td>\n",
       "      <td>-1.0</td>\n",
       "      <td>72</td>\n",
       "      <td>1.9</td>\n",
       "      <td>1.9</td>\n",
       "      <td>110.0</td>\n",
       "      <td>94.0</td>\n",
       "      <td>1.7</td>\n",
       "      <td>0.6</td>\n",
       "    </tr>\n",
       "  </tbody>\n",
       "</table>\n",
       "</div>"
      ],
      "text/plain": [
       "        date  hour  AMB_TEMP  CH4    CO  NMHC   NO   NO2   NOx    O3  PM10  \\\n",
       "0 2014-01-01     0      14.0  1.8  0.51  0.20  0.9  16.0  17.0  16.0    56   \n",
       "1 2014-01-01     1      14.0  1.8  0.41  0.15  0.6   9.2   9.8  30.0    50   \n",
       "2 2014-01-01     2      14.0  1.8  0.39  0.13  0.5   8.2   8.7  27.0    48   \n",
       "3 2014-01-01     3      13.0  1.8  0.37  0.12  1.7   6.9   8.6  23.0    35   \n",
       "4 2014-01-01     4      12.0  1.8  0.35  0.11  1.8   6.8   8.5  24.0    25   \n",
       "\n",
       "   PM2.5  RAINFALL  RH  SO2  THC  WD_HR  WIND_DIREC  WIND_SPEED  WS_HR  \n",
       "0     26      -1.0  77  1.8  2.0   37.0        35.0         1.4    0.5  \n",
       "1     39      -1.0  68  2.0  2.0   80.0        79.0         1.8    0.9  \n",
       "2     36      -1.0  67  1.7  2.0   57.0         2.4         1.0    0.6  \n",
       "3     35      -1.0  74  1.6  1.9   76.0        55.0         0.6    0.3  \n",
       "4     31      -1.0  72  1.9  1.9  110.0        94.0         1.7    0.6  "
      ]
     },
     "execution_count": 111,
     "metadata": {},
     "output_type": "execute_result"
    }
   ],
   "source": [
    "train_data = pd.DataFrame(train_dict)\n",
    "train_data.head()"
   ]
  },
  {
   "cell_type": "code",
   "execution_count": 110,
   "id": "assigned-measurement",
   "metadata": {},
   "outputs": [
    {
     "data": {
      "text/plain": [
       "RH           -0.264196\n",
       "WIND_SPEED   -0.084703\n",
       "RAINFALL     -0.070448\n",
       "WS_HR        -0.045458\n",
       "AMB_TEMP     -0.017127\n",
       "NO            0.029970\n",
       "WIND_DIREC    0.156990\n",
       "hour          0.168017\n",
       "WD_HR         0.186138\n",
       "CH4           0.254657\n",
       "CO            0.283119\n",
       "NMHC          0.291778\n",
       "THC           0.352159\n",
       "O3            0.356670\n",
       "SO2           0.370831\n",
       "NOx           0.375564\n",
       "NO2           0.449113\n",
       "PM10          0.776426\n",
       "PM2.5         1.000000\n",
       "Name: PM2.5, dtype: float64"
      ]
     },
     "execution_count": 110,
     "metadata": {},
     "output_type": "execute_result"
    }
   ],
   "source": [
    "# 皮尔森相关系数\n",
    "corr = train_data.corr()\n",
    "corr['PM2.5'].sort_values()"
   ]
  },
  {
   "cell_type": "code",
   "execution_count": 113,
   "id": "adult-functionality",
   "metadata": {},
   "outputs": [],
   "source": [
    "# 数据集切分\n",
    "X_train = train_data[['hour', 'AMB_TEMP', 'CH4', 'CO', 'NMHC', 'NO', 'NO2', 'NOx',\n",
    "       'O3', 'PM10', 'RAINFALL', 'RH', 'SO2', 'THC', 'WD_HR',\n",
    "       'WIND_DIREC', 'WIND_SPEED', 'WS_HR']]\n",
    "y_train = train_data['PM2.5']\n",
    "m = X_train.shape[0]\n",
    "n = X_train.shape[-1]"
   ]
  },
  {
   "cell_type": "code",
   "execution_count": 119,
   "id": "lightweight-guest",
   "metadata": {},
   "outputs": [],
   "source": [
    "# 标准化\n",
    "X_train = (X_train - X_train.mean())/X_train.std()\n",
    "# 归一化\n",
    "# X_train = (X_train - X_train.min())/X_train.max()"
   ]
  },
  {
   "cell_type": "markdown",
   "id": "union-error",
   "metadata": {},
   "source": [
    "## 梯度下降方法"
   ]
  },
  {
   "cell_type": "code",
   "execution_count": 155,
   "id": "attractive-intermediate",
   "metadata": {},
   "outputs": [],
   "source": [
    "np.random.seed(0)\n",
    "\n",
    "learning_rate = 0.01\n",
    "n_iter = 1000\n",
    "def BatchGradientDescent(X, y, n_iter, learning_rate):\n",
    "    n_samples = X.shape[0]\n",
    "    n_features = X.shape[-1]\n",
    "    theta = np.zeros(n_features)\n",
    "    \n",
    "    for i in tqdm(range(n_iter)):\n",
    "        error = X.dot(theta) - y \n",
    "        loss = error.dot(error) / (2 * n_samples)\n",
    "        grad = X.T.dot(error) / n_samples\n",
    "        theta = theta - learning_rate * grad\n",
    "    return theta, loss"
   ]
  },
  {
   "cell_type": "code",
   "execution_count": 156,
   "id": "sought-charity",
   "metadata": {},
   "outputs": [
    {
     "name": "stderr",
     "output_type": "stream",
     "text": [
      "100%|██████████| 1000/1000 [00:00<00:00, 4084.52it/s]\n"
     ]
    },
    {
     "data": {
      "text/plain": [
       "49.029195342579925"
      ]
     },
     "execution_count": 156,
     "metadata": {},
     "output_type": "execute_result"
    }
   ],
   "source": [
    "# 标准化\n",
    "X = (X_train - X_train.mean())/X_train.std()\n",
    "# 截距项\n",
    "X = np.c_[np.ones(X.shape[0]), X]\n",
    "# 归一化\n",
    "# X_train = (X_train - X_train.min())/X_train.max()\n",
    "theta, loss = BatchGradientDescent(X, y_train, n_iter, learning_rate)\n",
    "loss"
   ]
  },
  {
   "cell_type": "code",
   "execution_count": 157,
   "id": "pharmaceutical-china",
   "metadata": {},
   "outputs": [
    {
     "data": {
      "text/plain": [
       "<matplotlib.legend.Legend at 0x7ffa77b50d00>"
      ]
     },
     "execution_count": 157,
     "metadata": {},
     "output_type": "execute_result"
    },
    {
     "data": {
      "image/png": "[encoded data removed]",
      "text/plain": [
       "<Figure size 1000x500 with 1 Axes>"
      ]
     },
     "metadata": {
      "needs_background": "light"
     },
     "output_type": "display_data"
    }
   ],
   "source": [
    "import matplotlib.pyplot as plt\n",
    "%matplotlib inline\n",
    "fig = plt.figure(figsize=(10,5), dpi=100)\n",
    "\n",
    "plt.scatter(X_train['PM10'], y_train, label='原始数据')\n",
    "plt.scatter(X_train['PM10'], X.dot(theta), label='拟合数据')\n",
    "plt.legend()"
   ]
  },
  {
   "cell_type": "code",
   "execution_count": null,
   "id": "underlying-chosen",
   "metadata": {},
   "outputs": [],
   "source": [
    "# 归一化\n",
    "X_train = (X_train - X_train.min())/X_train.max()\n",
    "# 截距项\n",
    "X = np.c_[np.ones(X.shape[0]), X]\n",
    "theta, loss = BatchGradientDescent(X, y_train, n_iter, learning_rate)\n",
    "loss"
   ]
  }
 ],
 "metadata": {
  "kernelspec": {
   "display_name": "Python 3",
   "language": "python",
   "name": "python3"
  },
  "language_info": {
   "codemirror_mode": {
    "name": "ipython",
    "version": 3
   },
   "file_extension": ".py",
   "mimetype": "text/x-python",
   "name": "python",
   "nbconvert_exporter": "python",
   "pygments_lexer": "ipython3",
   "version": "3.8.5"
  }
 },
 "nbformat": 4,
 "nbformat_minor": 5
}
